{
 "cells": [
  {
   "cell_type": "code",
   "execution_count": 149,
   "id": "284b7b11",
   "metadata": {},
   "outputs": [],
   "source": [
    "import streamlit as st\n",
    "import plotly.express as px\n",
    "import pandas as pd\n",
    "import ee\n",
    "import geemap.foliumap as geemap\n",
    "import requests\n",
    "from datetime import datetime, timedelta, date, time\n",
    "import math"
   ]
  },
  {
   "cell_type": "code",
   "execution_count": 76,
   "id": "9d26a407",
   "metadata": {},
   "outputs": [],
   "source": [
    "location_name = \" New York\""
   ]
  },
  {
   "cell_type": "code",
   "execution_count": 77,
   "id": "817d6aea",
   "metadata": {},
   "outputs": [],
   "source": [
    "api_key = '896cbba33f2536fcb57efcb59484cc58'\n",
    "url_current = \"https://api.openweathermap.org/data/2.5/weather?q={}&mode=xm&appid={}\"\n",
    "url_past = \"https://api.openweathermap.org/data/2.5/onecall/timemachine?lat={}&lon={}&dt={}&appid={}\""
   ]
  },
  {
   "cell_type": "code",
   "execution_count": 78,
   "id": "ab0085c3",
   "metadata": {},
   "outputs": [],
   "source": [
    "result = requests.get(url_current.format(location_name, api_key))"
   ]
  },
  {
   "cell_type": "code",
   "execution_count": 79,
   "id": "8d2cf57a",
   "metadata": {},
   "outputs": [],
   "source": [
    "json = result.json()"
   ]
  },
  {
   "cell_type": "code",
   "execution_count": 80,
   "id": "da34aca8",
   "metadata": {},
   "outputs": [
    {
     "name": "stdout",
     "output_type": "stream",
     "text": [
      "{'coord': {'lon': -74.006, 'lat': 40.7143}, 'weather': [{'id': 800, 'main': 'Clear', 'description': 'clear sky', 'icon': '01n'}], 'base': 'stations', 'main': {'temp': 291.08, 'feels_like': 290.6, 'temp_min': 287.12, 'temp_max': 293.69, 'pressure': 1014, 'humidity': 64}, 'visibility': 10000, 'wind': {'speed': 2.06, 'deg': 230}, 'clouds': {'all': 0}, 'dt': 1665103535, 'sys': {'type': 2, 'id': 2039034, 'country': 'US', 'sunrise': 1665053848, 'sunset': 1665095432}, 'timezone': -14400, 'id': 5128581, 'name': 'New York', 'cod': 200}\n"
     ]
    }
   ],
   "source": [
    "print(json)"
   ]
  },
  {
   "cell_type": "code",
   "execution_count": 81,
   "id": "83e60b10",
   "metadata": {},
   "outputs": [
    {
     "data": {
      "text/plain": [
       "dict_keys(['coord', 'weather', 'base', 'main', 'visibility', 'wind', 'clouds', 'dt', 'sys', 'timezone', 'id', 'name', 'cod'])"
      ]
     },
     "execution_count": 81,
     "metadata": {},
     "output_type": "execute_result"
    }
   ],
   "source": [
    "json.keys()"
   ]
  },
  {
   "cell_type": "code",
   "execution_count": 82,
   "id": "95d575e0",
   "metadata": {},
   "outputs": [],
   "source": [
    "lon = json['coord']['lon']\n",
    "lat = json['coord']['lat']"
   ]
  },
  {
   "cell_type": "code",
   "execution_count": 83,
   "id": "d24002f4",
   "metadata": {},
   "outputs": [
    {
     "data": {
      "text/plain": [
       "-74.006"
      ]
     },
     "execution_count": 83,
     "metadata": {},
     "output_type": "execute_result"
    }
   ],
   "source": [
    "lon"
   ]
  },
  {
   "cell_type": "code",
   "execution_count": 84,
   "id": "56620d87",
   "metadata": {},
   "outputs": [
    {
     "data": {
      "text/plain": [
       "40.7143"
      ]
     },
     "execution_count": 84,
     "metadata": {},
     "output_type": "execute_result"
    }
   ],
   "source": [
    "lat"
   ]
  },
  {
   "cell_type": "markdown",
   "id": "fa77075e",
   "metadata": {},
   "source": [
    "### Getting historical weather data"
   ]
  },
  {
   "cell_type": "code",
   "execution_count": 140,
   "id": "9922bf4d",
   "metadata": {},
   "outputs": [],
   "source": [
    "date_str = \"2022-10-04\""
   ]
  },
  {
   "cell_type": "code",
   "execution_count": 141,
   "id": "d9d0c11d",
   "metadata": {},
   "outputs": [],
   "source": [
    "start_date = datetime.strptime(str(date_str), \"%Y-%m-%d\")"
   ]
  },
  {
   "cell_type": "code",
   "execution_count": 142,
   "id": "8c94c554",
   "metadata": {},
   "outputs": [
    {
     "data": {
      "text/plain": [
       "datetime.datetime(2022, 10, 4, 0, 0)"
      ]
     },
     "execution_count": 142,
     "metadata": {},
     "output_type": "execute_result"
    }
   ],
   "source": [
    "start_date"
   ]
  },
  {
   "cell_type": "code",
   "execution_count": 143,
   "id": "65cc694c",
   "metadata": {},
   "outputs": [],
   "source": [
    "time_stamp_1 = datetime.timestamp(start_date)"
   ]
  },
  {
   "cell_type": "code",
   "execution_count": 144,
   "id": "873bfac0",
   "metadata": {},
   "outputs": [],
   "source": [
    "def get_hist_data(lat, lon, start):\n",
    "    res = requests.get(url_past.format(lat, lon, start, api_key))\n",
    "    data = res.json()\n",
    "    temp = []\n",
    "    for hour in data[\"hourly\"]:\n",
    "        t = hour[\"temp\"]\n",
    "        temp.append(t)\n",
    "    return data, temp"
   ]
  },
  {
   "cell_type": "code",
   "execution_count": 145,
   "id": "b540c0d3",
   "metadata": {},
   "outputs": [],
   "source": [
    "res = requests.get(url_past.format(lat, lon, int(time_stamp_1), api_key))"
   ]
  },
  {
   "cell_type": "code",
   "execution_count": 150,
   "id": "8503c005",
   "metadata": {
    "scrolled": false
   },
   "outputs": [],
   "source": [
    "data = res.json()"
   ]
  },
  {
   "cell_type": "code",
   "execution_count": 151,
   "id": "dd9efdd6",
   "metadata": {},
   "outputs": [
    {
     "data": {
      "text/plain": [
       "dict_keys(['lat', 'lon', 'timezone', 'timezone_offset', 'current', 'hourly'])"
      ]
     },
     "execution_count": 151,
     "metadata": {},
     "output_type": "execute_result"
    }
   ],
   "source": [
    "data.keys()"
   ]
  },
  {
   "cell_type": "code",
   "execution_count": 153,
   "id": "0ed13c76",
   "metadata": {
    "scrolled": true
   },
   "outputs": [
    {
     "name": "stdout",
     "output_type": "stream",
     "text": [
      "283.31\n",
      "283.11\n",
      "282.62\n",
      "282.73\n",
      "282.6\n",
      "282.27\n",
      "281.42\n",
      "281.01\n",
      "281.01\n",
      "280.63\n",
      "280.92\n",
      "281.15\n",
      "281.41\n",
      "282.19\n",
      "282.87\n",
      "283.35\n",
      "284.1\n",
      "284.17\n",
      "284.84\n",
      "285.08\n",
      "285.22\n",
      "285.39\n",
      "286\n",
      "285.79\n"
     ]
    }
   ],
   "source": [
    "for hour in data[\"hourly\"]:\n",
    "    t = hour[\"temp\"]\n",
    "    print(t)"
   ]
  },
  {
   "cell_type": "code",
   "execution_count": 148,
   "id": "9e555479",
   "metadata": {
    "scrolled": true
   },
   "outputs": [
    {
     "data": {
      "text/plain": [
       "[{'dt': 1664841600,\n",
       "  'temp': 283.31,\n",
       "  'feels_like': 282.57,\n",
       "  'pressure': 1021,\n",
       "  'humidity': 84,\n",
       "  'dew_point': 280.73,\n",
       "  'uvi': 0,\n",
       "  'clouds': 100,\n",
       "  'visibility': 10000,\n",
       "  'wind_speed': 8.49,\n",
       "  'wind_deg': 23,\n",
       "  'wind_gust': 15.65,\n",
       "  'weather': [{'id': 501,\n",
       "    'main': 'Rain',\n",
       "    'description': 'moderate rain',\n",
       "    'icon': '10n'}],\n",
       "  'rain': {'1h': 2.05}},\n",
       " {'dt': 1664845200,\n",
       "  'temp': 283.11,\n",
       "  'feels_like': 279.65,\n",
       "  'pressure': 1021,\n",
       "  'humidity': 84,\n",
       "  'dew_point': 280.54,\n",
       "  'uvi': 0,\n",
       "  'clouds': 100,\n",
       "  'visibility': 10000,\n",
       "  'wind_speed': 8.49,\n",
       "  'wind_deg': 37,\n",
       "  'wind_gust': 13.86,\n",
       "  'weather': [{'id': 501,\n",
       "    'main': 'Rain',\n",
       "    'description': 'moderate rain',\n",
       "    'icon': '10n'}],\n",
       "  'rain': {'1h': 1.15}},\n",
       " {'dt': 1664848800,\n",
       "  'temp': 282.62,\n",
       "  'feels_like': 279.07,\n",
       "  'pressure': 1020,\n",
       "  'humidity': 85,\n",
       "  'dew_point': 280.23,\n",
       "  'uvi': 0,\n",
       "  'clouds': 100,\n",
       "  'visibility': 9656,\n",
       "  'wind_speed': 8.23,\n",
       "  'wind_deg': 30,\n",
       "  'wind_gust': 11.32,\n",
       "  'weather': [{'id': 501,\n",
       "    'main': 'Rain',\n",
       "    'description': 'moderate rain',\n",
       "    'icon': '10n'},\n",
       "   {'id': 701, 'main': 'Mist', 'description': 'mist', 'icon': '50n'}],\n",
       "  'rain': {'1h': 2.37}},\n",
       " {'dt': 1664852400,\n",
       "  'temp': 282.73,\n",
       "  'feels_like': 278.56,\n",
       "  'pressure': 1020,\n",
       "  'humidity': 84,\n",
       "  'dew_point': 280.16,\n",
       "  'uvi': 0,\n",
       "  'clouds': 100,\n",
       "  'visibility': 10000,\n",
       "  'wind_speed': 11.18,\n",
       "  'wind_deg': 25,\n",
       "  'wind_gust': 15.2,\n",
       "  'weather': [{'id': 500,\n",
       "    'main': 'Rain',\n",
       "    'description': 'light rain',\n",
       "    'icon': '10n'}],\n",
       "  'rain': {'1h': 0.27}},\n",
       " {'dt': 1664856000,\n",
       "  'temp': 282.6,\n",
       "  'feels_like': 278.77,\n",
       "  'pressure': 1019,\n",
       "  'humidity': 85,\n",
       "  'dew_point': 280.21,\n",
       "  'uvi': 0,\n",
       "  'clouds': 100,\n",
       "  'visibility': 10000,\n",
       "  'wind_speed': 9.39,\n",
       "  'wind_deg': 8,\n",
       "  'wind_gust': 13.41,\n",
       "  'weather': [{'id': 500,\n",
       "    'main': 'Rain',\n",
       "    'description': 'light rain',\n",
       "    'icon': '10n'}],\n",
       "  'rain': {'1h': 0.49}},\n",
       " {'dt': 1664859600,\n",
       "  'temp': 282.27,\n",
       "  'feels_like': 278.23,\n",
       "  'pressure': 1018,\n",
       "  'humidity': 85,\n",
       "  'dew_point': 279.88,\n",
       "  'uvi': 0,\n",
       "  'clouds': 100,\n",
       "  'visibility': 8047,\n",
       "  'wind_speed': 9.83,\n",
       "  'wind_deg': 36,\n",
       "  'wind_gust': 12.96,\n",
       "  'weather': [{'id': 501,\n",
       "    'main': 'Rain',\n",
       "    'description': 'moderate rain',\n",
       "    'icon': '10n'},\n",
       "   {'id': 701, 'main': 'Mist', 'description': 'mist', 'icon': '50n'}],\n",
       "  'rain': {'1h': 1.33}},\n",
       " {'dt': 1664863200,\n",
       "  'temp': 281.42,\n",
       "  'feels_like': 278.11,\n",
       "  'pressure': 1018,\n",
       "  'humidity': 89,\n",
       "  'dew_point': 279.72,\n",
       "  'uvi': 0,\n",
       "  'clouds': 100,\n",
       "  'visibility': 2816,\n",
       "  'wind_speed': 6.26,\n",
       "  'wind_deg': 15,\n",
       "  'wind_gust': 11.18,\n",
       "  'weather': [{'id': 502,\n",
       "    'main': 'Rain',\n",
       "    'description': 'heavy intensity rain',\n",
       "    'icon': '10n'},\n",
       "   {'id': 701, 'main': 'Mist', 'description': 'mist', 'icon': '50n'}],\n",
       "  'rain': {'1h': 4.86}},\n",
       " {'dt': 1664866800,\n",
       "  'temp': 281.01,\n",
       "  'feels_like': 277.62,\n",
       "  'pressure': 1017,\n",
       "  'humidity': 93,\n",
       "  'dew_point': 279.95,\n",
       "  'uvi': 0,\n",
       "  'clouds': 100,\n",
       "  'visibility': 2414,\n",
       "  'wind_speed': 6.17,\n",
       "  'wind_deg': 10,\n",
       "  'weather': [{'id': 701,\n",
       "    'main': 'Mist',\n",
       "    'description': 'mist',\n",
       "    'icon': '50n'},\n",
       "   {'id': 502,\n",
       "    'main': 'Rain',\n",
       "    'description': 'heavy intensity rain',\n",
       "    'icon': '10n'}],\n",
       "  'rain': {'1h': 7.49}},\n",
       " {'dt': 1664870400,\n",
       "  'temp': 281.01,\n",
       "  'feels_like': 277.12,\n",
       "  'pressure': 1017,\n",
       "  'humidity': 93,\n",
       "  'dew_point': 279.95,\n",
       "  'uvi': 0,\n",
       "  'clouds': 100,\n",
       "  'visibility': 8047,\n",
       "  'wind_speed': 7.72,\n",
       "  'wind_deg': 10,\n",
       "  'weather': [{'id': 501,\n",
       "    'main': 'Rain',\n",
       "    'description': 'moderate rain',\n",
       "    'icon': '10n'},\n",
       "   {'id': 701, 'main': 'Mist', 'description': 'mist', 'icon': '50n'}],\n",
       "  'rain': {'1h': 2.37}},\n",
       " {'dt': 1664874000,\n",
       "  'temp': 280.63,\n",
       "  'feels_like': 276.66,\n",
       "  'pressure': 1017,\n",
       "  'humidity': 90,\n",
       "  'dew_point': 279.1,\n",
       "  'uvi': 0,\n",
       "  'clouds': 100,\n",
       "  'visibility': 4828,\n",
       "  'wind_speed': 7.6,\n",
       "  'wind_deg': 15,\n",
       "  'wind_gust': 10.73,\n",
       "  'weather': [{'id': 501,\n",
       "    'main': 'Rain',\n",
       "    'description': 'moderate rain',\n",
       "    'icon': '10n'},\n",
       "   {'id': 701, 'main': 'Mist', 'description': 'mist', 'icon': '50n'}],\n",
       "  'rain': {'1h': 0.75}},\n",
       " {'dt': 1664877600,\n",
       "  'temp': 280.92,\n",
       "  'feels_like': 277.16,\n",
       "  'pressure': 1016,\n",
       "  'humidity': 94,\n",
       "  'dew_point': 280.02,\n",
       "  'uvi': 0,\n",
       "  'clouds': 100,\n",
       "  'visibility': 6437,\n",
       "  'wind_speed': 7.2,\n",
       "  'wind_deg': 360,\n",
       "  'weather': [{'id': 701,\n",
       "    'main': 'Mist',\n",
       "    'description': 'mist',\n",
       "    'icon': '50n'},\n",
       "   {'id': 501, 'main': 'Rain', 'description': 'moderate rain', 'icon': '10n'}],\n",
       "  'rain': {'1h': 1.54}},\n",
       " {'dt': 1664881200,\n",
       "  'temp': 281.15,\n",
       "  'feels_like': 277.3,\n",
       "  'pressure': 1016,\n",
       "  'humidity': 89,\n",
       "  'dew_point': 279.45,\n",
       "  'uvi': 0,\n",
       "  'clouds': 100,\n",
       "  'visibility': 8047,\n",
       "  'wind_speed': 7.72,\n",
       "  'wind_deg': 360,\n",
       "  'weather': [{'id': 500,\n",
       "    'main': 'Rain',\n",
       "    'description': 'light rain',\n",
       "    'icon': '10d'},\n",
       "   {'id': 701, 'main': 'Mist', 'description': 'mist', 'icon': '50d'}],\n",
       "  'rain': {'1h': 0.13}},\n",
       " {'dt': 1664884800,\n",
       "  'temp': 281.41,\n",
       "  'feels_like': 278.25,\n",
       "  'pressure': 1016,\n",
       "  'humidity': 89,\n",
       "  'dew_point': 279.71,\n",
       "  'uvi': 0.01,\n",
       "  'clouds': 100,\n",
       "  'visibility': 10000,\n",
       "  'wind_speed': 5.81,\n",
       "  'wind_deg': 345,\n",
       "  'wind_gust': 10.28,\n",
       "  'weather': [{'id': 500,\n",
       "    'main': 'Rain',\n",
       "    'description': 'light rain',\n",
       "    'icon': '10d'}],\n",
       "  'rain': {'1h': 0.36}},\n",
       " {'dt': 1664888400,\n",
       "  'temp': 282.19,\n",
       "  'feels_like': 278.34,\n",
       "  'pressure': 1016,\n",
       "  'humidity': 90,\n",
       "  'dew_point': 280.64,\n",
       "  'uvi': 0.03,\n",
       "  'clouds': 100,\n",
       "  'visibility': 10000,\n",
       "  'wind_speed': 8.94,\n",
       "  'wind_deg': 14,\n",
       "  'wind_gust': 13.41,\n",
       "  'weather': [{'id': 804,\n",
       "    'main': 'Clouds',\n",
       "    'description': 'overcast clouds',\n",
       "    'icon': '04d'}]},\n",
       " {'dt': 1664892000,\n",
       "  'temp': 282.87,\n",
       "  'feels_like': 279.03,\n",
       "  'pressure': 1016,\n",
       "  'humidity': 90,\n",
       "  'dew_point': 281.31,\n",
       "  'uvi': 0.08,\n",
       "  'clouds': 100,\n",
       "  'visibility': 8047,\n",
       "  'wind_speed': 9.83,\n",
       "  'wind_deg': 46,\n",
       "  'wind_gust': 16.54,\n",
       "  'weather': [{'id': 701,\n",
       "    'main': 'Mist',\n",
       "    'description': 'mist',\n",
       "    'icon': '50d'}]},\n",
       " {'dt': 1664895600,\n",
       "  'temp': 283.35,\n",
       "  'feels_like': 282.75,\n",
       "  'pressure': 1015,\n",
       "  'humidity': 89,\n",
       "  'dew_point': 281.62,\n",
       "  'uvi': 0.15,\n",
       "  'clouds': 100,\n",
       "  'visibility': 10000,\n",
       "  'wind_speed': 10.28,\n",
       "  'wind_deg': 32,\n",
       "  'wind_gust': 13.86,\n",
       "  'weather': [{'id': 804,\n",
       "    'main': 'Clouds',\n",
       "    'description': 'overcast clouds',\n",
       "    'icon': '04d'}]},\n",
       " {'dt': 1664899200,\n",
       "  'temp': 284.1,\n",
       "  'feels_like': 283.55,\n",
       "  'pressure': 1015,\n",
       "  'humidity': 88,\n",
       "  'dew_point': 282.19,\n",
       "  'uvi': 0.23,\n",
       "  'clouds': 100,\n",
       "  'visibility': 10000,\n",
       "  'wind_speed': 9.83,\n",
       "  'wind_deg': 37,\n",
       "  'wind_gust': 13.86,\n",
       "  'weather': [{'id': 804,\n",
       "    'main': 'Clouds',\n",
       "    'description': 'overcast clouds',\n",
       "    'icon': '04d'}]},\n",
       " {'dt': 1664902800,\n",
       "  'temp': 284.17,\n",
       "  'feels_like': 283.68,\n",
       "  'pressure': 1014,\n",
       "  'humidity': 90,\n",
       "  'dew_point': 282.59,\n",
       "  'uvi': 0.25,\n",
       "  'clouds': 100,\n",
       "  'visibility': 2414,\n",
       "  'wind_speed': 11.18,\n",
       "  'wind_deg': 19,\n",
       "  'wind_gust': 14.31,\n",
       "  'weather': [{'id': 701,\n",
       "    'main': 'Mist',\n",
       "    'description': 'mist',\n",
       "    'icon': '50d'}]},\n",
       " {'dt': 1664906400,\n",
       "  'temp': 284.84,\n",
       "  'feels_like': 284.52,\n",
       "  'pressure': 1013,\n",
       "  'humidity': 94,\n",
       "  'dew_point': 283.91,\n",
       "  'uvi': 0.23,\n",
       "  'clouds': 100,\n",
       "  'visibility': 9656,\n",
       "  'wind_speed': 10.28,\n",
       "  'wind_deg': 22,\n",
       "  'wind_gust': 13.41,\n",
       "  'weather': [{'id': 701,\n",
       "    'main': 'Mist',\n",
       "    'description': 'mist',\n",
       "    'icon': '50d'}]},\n",
       " {'dt': 1664910000,\n",
       "  'temp': 285.08,\n",
       "  'feels_like': 284.65,\n",
       "  'pressure': 1013,\n",
       "  'humidity': 89,\n",
       "  'dew_point': 283.33,\n",
       "  'uvi': 0.2,\n",
       "  'clouds': 100,\n",
       "  'visibility': 8047,\n",
       "  'wind_speed': 9.83,\n",
       "  'wind_deg': 22,\n",
       "  'wind_gust': 13.41,\n",
       "  'weather': [{'id': 701,\n",
       "    'main': 'Mist',\n",
       "    'description': 'mist',\n",
       "    'icon': '50d'}]},\n",
       " {'dt': 1664913600,\n",
       "  'temp': 285.22,\n",
       "  'feels_like': 284.81,\n",
       "  'pressure': 1013,\n",
       "  'humidity': 89,\n",
       "  'dew_point': 283.46,\n",
       "  'uvi': 0.11,\n",
       "  'clouds': 100,\n",
       "  'visibility': 4828,\n",
       "  'wind_speed': 12.96,\n",
       "  'wind_deg': 49,\n",
       "  'wind_gust': 16.99,\n",
       "  'weather': [{'id': 701,\n",
       "    'main': 'Mist',\n",
       "    'description': 'mist',\n",
       "    'icon': '50d'}]},\n",
       " {'dt': 1664917200,\n",
       "  'temp': 285.39,\n",
       "  'feels_like': 284.99,\n",
       "  'pressure': 1012,\n",
       "  'humidity': 89,\n",
       "  'dew_point': 283.63,\n",
       "  'uvi': 0.05,\n",
       "  'clouds': 100,\n",
       "  'visibility': 10000,\n",
       "  'wind_speed': 9.83,\n",
       "  'wind_deg': 11,\n",
       "  'wind_gust': 13.86,\n",
       "  'weather': [{'id': 804,\n",
       "    'main': 'Clouds',\n",
       "    'description': 'overcast clouds',\n",
       "    'icon': '04d'}]},\n",
       " {'dt': 1664920800,\n",
       "  'temp': 286,\n",
       "  'feels_like': 285.72,\n",
       "  'pressure': 1012,\n",
       "  'humidity': 91,\n",
       "  'dew_point': 284.57,\n",
       "  'uvi': 0.02,\n",
       "  'clouds': 100,\n",
       "  'visibility': 10000,\n",
       "  'wind_speed': 11.18,\n",
       "  'wind_deg': 49,\n",
       "  'wind_gust': 16.99,\n",
       "  'weather': [{'id': 804,\n",
       "    'main': 'Clouds',\n",
       "    'description': 'overcast clouds',\n",
       "    'icon': '04d'}]},\n",
       " {'dt': 1664924400,\n",
       "  'temp': 285.79,\n",
       "  'feels_like': 285.38,\n",
       "  'pressure': 1012,\n",
       "  'humidity': 87,\n",
       "  'dew_point': 283.69,\n",
       "  'uvi': 0,\n",
       "  'clouds': 100,\n",
       "  'visibility': 10000,\n",
       "  'wind_speed': 10.29,\n",
       "  'wind_deg': 30,\n",
       "  'weather': [{'id': 804,\n",
       "    'main': 'Clouds',\n",
       "    'description': 'overcast clouds',\n",
       "    'icon': '04n'}]}]"
      ]
     },
     "execution_count": 148,
     "metadata": {},
     "output_type": "execute_result"
    }
   ],
   "source": [
    "data[\"hourly\"]"
   ]
  },
  {
   "cell_type": "code",
   "execution_count": 129,
   "id": "4215c08d",
   "metadata": {},
   "outputs": [],
   "source": [
    "test = {'rain': {'1h': 0.42}}"
   ]
  },
  {
   "cell_type": "code",
   "execution_count": 133,
   "id": "d2716449",
   "metadata": {},
   "outputs": [
    {
     "data": {
      "text/plain": [
       "0.42"
      ]
     },
     "execution_count": 133,
     "metadata": {},
     "output_type": "execute_result"
    }
   ],
   "source": [
    "sum(test[\"rain\"].values())"
   ]
  },
  {
   "cell_type": "code",
   "execution_count": 135,
   "id": "439dc639",
   "metadata": {
    "scrolled": true
   },
   "outputs": [
    {
     "name": "stdout",
     "output_type": "stream",
     "text": [
      "0.42\n",
      "0.32\n",
      "0.13\n"
     ]
    }
   ],
   "source": [
    "rain_total_daily = []\n",
    "for hour in data[\"hourly\"]:\n",
    "    if 'rain' in hour.keys():\n",
    "        rain = hour[\"rain\"]['1h']\n",
    "        print(rain)\n",
    "        rain_total_daily.append(rain)\n",
    "    "
   ]
  },
  {
   "cell_type": "code",
   "execution_count": 139,
   "id": "26bd3d9f",
   "metadata": {},
   "outputs": [
    {
     "data": {
      "text/plain": [
       "0.87"
      ]
     },
     "execution_count": 139,
     "metadata": {},
     "output_type": "execute_result"
    }
   ],
   "source": [
    "sum(rain_total_daily)"
   ]
  },
  {
   "cell_type": "code",
   "execution_count": 137,
   "id": "2bffad1f",
   "metadata": {},
   "outputs": [
    {
     "data": {
      "text/plain": [
       "dict"
      ]
     },
     "execution_count": 137,
     "metadata": {},
     "output_type": "execute_result"
    }
   ],
   "source": [
    "type(data[\"hourly\"][10])"
   ]
  },
  {
   "cell_type": "code",
   "execution_count": 138,
   "id": "ff91554f",
   "metadata": {},
   "outputs": [
    {
     "data": {
      "text/plain": [
       "dict_keys(['dt', 'temp', 'feels_like', 'pressure', 'humidity', 'dew_point', 'uvi', 'clouds', 'visibility', 'wind_speed', 'wind_deg', 'wind_gust', 'weather', 'rain'])"
      ]
     },
     "execution_count": 138,
     "metadata": {},
     "output_type": "execute_result"
    }
   ],
   "source": [
    "data[\"hourly\"][10].keys()"
   ]
  },
  {
   "cell_type": "code",
   "execution_count": null,
   "id": "a047592e",
   "metadata": {},
   "outputs": [],
   "source": []
  }
 ],
 "metadata": {
  "kernelspec": {
   "display_name": "Python 3 (ipykernel)",
   "language": "python",
   "name": "python3"
  },
  "language_info": {
   "codemirror_mode": {
    "name": "ipython",
    "version": 3
   },
   "file_extension": ".py",
   "mimetype": "text/x-python",
   "name": "python",
   "nbconvert_exporter": "python",
   "pygments_lexer": "ipython3",
   "version": "3.9.12"
  }
 },
 "nbformat": 4,
 "nbformat_minor": 5
}
